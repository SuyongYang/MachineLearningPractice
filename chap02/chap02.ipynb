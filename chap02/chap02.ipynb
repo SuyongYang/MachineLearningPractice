{
 "cells": [
  {
   "cell_type": "code",
   "execution_count": 1,
   "metadata": {},
   "outputs": [
    {
     "data": {
      "text/plain": [
       "314.0"
      ]
     },
     "execution_count": 1,
     "metadata": {},
     "output_type": "execute_result"
    }
   ],
   "source": [
    "3.14 * 10 * 10 "
   ]
  },
  {
   "cell_type": "code",
   "execution_count": 2,
   "metadata": {},
   "outputs": [
    {
     "data": {
      "text/plain": [
       "314.0"
      ]
     },
     "execution_count": 2,
     "metadata": {},
     "output_type": "execute_result"
    }
   ],
   "source": [
    "3.14 * 10**2"
   ]
  },
  {
   "cell_type": "code",
   "execution_count": 3,
   "metadata": {},
   "outputs": [
    {
     "data": {
      "text/plain": [
       "int"
      ]
     },
     "execution_count": 3,
     "metadata": {},
     "output_type": "execute_result"
    }
   ],
   "source": [
    "type(10)"
   ]
  },
  {
   "cell_type": "code",
   "execution_count": 4,
   "metadata": {},
   "outputs": [
    {
     "data": {
      "text/plain": [
       "float"
      ]
     },
     "execution_count": 4,
     "metadata": {},
     "output_type": "execute_result"
    }
   ],
   "source": [
    "type(3.14)"
   ]
  },
  {
   "cell_type": "code",
   "execution_count": 5,
   "metadata": {},
   "outputs": [
    {
     "data": {
      "text/plain": [
       "str"
      ]
     },
     "execution_count": 5,
     "metadata": {},
     "output_type": "execute_result"
    }
   ],
   "source": [
    "type(\"python\")"
   ]
  },
  {
   "cell_type": "code",
   "execution_count": 6,
   "metadata": {},
   "outputs": [],
   "source": [
    " r = 20"
   ]
  },
  {
   "cell_type": "code",
   "execution_count": 7,
   "metadata": {},
   "outputs": [],
   "source": [
    "PI = 3.14\t\t# 원주율 정의"
   ]
  },
  {
   "cell_type": "code",
   "execution_count": 8,
   "metadata": {},
   "outputs": [],
   "source": [
    "area = PI * r**2"
   ]
  },
  {
   "cell_type": "code",
   "execution_count": 9,
   "metadata": {},
   "outputs": [
    {
     "data": {
      "text/plain": [
       "1256.0"
      ]
     },
     "execution_count": 9,
     "metadata": {},
     "output_type": "execute_result"
    }
   ],
   "source": [
    "area"
   ]
  },
  {
   "cell_type": "code",
   "execution_count": 10,
   "metadata": {},
   "outputs": [],
   "source": [
    "lst = [ 10, 20, 30, 40, 50]\t\t# 리스트 정의"
   ]
  },
  {
   "cell_type": "code",
   "execution_count": 11,
   "metadata": {},
   "outputs": [
    {
     "data": {
      "text/plain": [
       "[10, 20, 30, 40, 50]"
      ]
     },
     "execution_count": 11,
     "metadata": {},
     "output_type": "execute_result"
    }
   ],
   "source": [
    "lst"
   ]
  },
  {
   "cell_type": "code",
   "execution_count": 12,
   "metadata": {},
   "outputs": [
    {
     "data": {
      "text/plain": [
       "30"
      ]
     },
     "execution_count": 12,
     "metadata": {},
     "output_type": "execute_result"
    }
   ],
   "source": [
    "lst[2] \t\t\t\t# 리스트의 요소 접근"
   ]
  },
  {
   "cell_type": "code",
   "execution_count": 13,
   "metadata": {},
   "outputs": [],
   "source": [
    "lst[2] = 90\t\t\t# 세 번째 요소를 90으로 변경"
   ]
  },
  {
   "cell_type": "code",
   "execution_count": 14,
   "metadata": {},
   "outputs": [
    {
     "data": {
      "text/plain": [
       "[10, 20, 90, 40, 50]"
      ]
     },
     "execution_count": 14,
     "metadata": {},
     "output_type": "execute_result"
    }
   ],
   "source": [
    "lst"
   ]
  },
  {
   "cell_type": "code",
   "execution_count": 15,
   "metadata": {},
   "outputs": [
    {
     "data": {
      "text/plain": [
       "5"
      ]
     },
     "execution_count": 15,
     "metadata": {},
     "output_type": "execute_result"
    }
   ],
   "source": [
    "len(lst)"
   ]
  },
  {
   "cell_type": "code",
   "execution_count": 16,
   "metadata": {},
   "outputs": [
    {
     "data": {
      "text/plain": [
       "[10, 20, 90]"
      ]
     },
     "execution_count": 16,
     "metadata": {},
     "output_type": "execute_result"
    }
   ],
   "source": [
    "lst[0:3]"
   ]
  },
  {
   "cell_type": "code",
   "execution_count": 17,
   "metadata": {},
   "outputs": [
    {
     "data": {
      "text/plain": [
       "[90, 40, 50]"
      ]
     },
     "execution_count": 17,
     "metadata": {},
     "output_type": "execute_result"
    }
   ],
   "source": [
    "lst[2:]\t"
   ]
  },
  {
   "cell_type": "code",
   "execution_count": 18,
   "metadata": {},
   "outputs": [
    {
     "data": {
      "text/plain": [
       "[10, 20, 90]"
      ]
     },
     "execution_count": 18,
     "metadata": {},
     "output_type": "execute_result"
    }
   ],
   "source": [
    "lst[:3]"
   ]
  },
  {
   "cell_type": "code",
   "execution_count": 19,
   "metadata": {},
   "outputs": [
    {
     "data": {
      "text/plain": [
       "[10, 20, 90, 40]"
      ]
     },
     "execution_count": 19,
     "metadata": {},
     "output_type": "execute_result"
    }
   ],
   "source": [
    "lst[:-1]"
   ]
  },
  {
   "cell_type": "code",
   "execution_count": 20,
   "metadata": {},
   "outputs": [],
   "source": [
    " car = { 'HP':200, 'make': \"BNW\" }\t# 딕셔너리 정의"
   ]
  },
  {
   "cell_type": "code",
   "execution_count": 21,
   "metadata": {},
   "outputs": [
    {
     "data": {
      "text/plain": [
       "200"
      ]
     },
     "execution_count": 21,
     "metadata": {},
     "output_type": "execute_result"
    }
   ],
   "source": [
    "car['HP']"
   ]
  },
  {
   "cell_type": "code",
   "execution_count": 22,
   "metadata": {},
   "outputs": [],
   "source": [
    "car['color'] = \"white\""
   ]
  },
  {
   "cell_type": "code",
   "execution_count": 23,
   "metadata": {},
   "outputs": [
    {
     "data": {
      "text/plain": [
       "{'HP': 200, 'make': 'BNW', 'color': 'white'}"
      ]
     },
     "execution_count": 23,
     "metadata": {},
     "output_type": "execute_result"
    }
   ],
   "source": [
    "car"
   ]
  },
  {
   "cell_type": "code",
   "execution_count": 24,
   "metadata": {},
   "outputs": [],
   "source": [
    "temp = -10"
   ]
  },
  {
   "cell_type": "code",
   "execution_count": 28,
   "metadata": {},
   "outputs": [
    {
     "name": "stdout",
     "output_type": "stream",
     "text": [
      "영하입니다.\n"
     ]
    }
   ],
   "source": [
    "if temp < 0 :\n",
    "    print(\"영하입니다.\")\t\n",
    "else:\n",
    "    print(\"영상입니다.\")"
   ]
  },
  {
   "cell_type": "code",
   "execution_count": 29,
   "metadata": {},
   "outputs": [
    {
     "name": "stdout",
     "output_type": "stream",
     "text": [
      "1 2 3 4 5 "
     ]
    }
   ],
   "source": [
    "for i in [1, 2, 3, 4, 5] :\n",
    "    print(i, end=\" \")"
   ]
  },
  {
   "cell_type": "code",
   "execution_count": 30,
   "metadata": {},
   "outputs": [],
   "source": [
    "def sayHello():\n",
    "    print(\"Hello!\")"
   ]
  },
  {
   "cell_type": "code",
   "execution_count": 31,
   "metadata": {},
   "outputs": [
    {
     "name": "stdout",
     "output_type": "stream",
     "text": [
      "Hello!\n"
     ]
    }
   ],
   "source": [
    "sayHello()"
   ]
  },
  {
   "cell_type": "code",
   "execution_count": 32,
   "metadata": {},
   "outputs": [],
   "source": [
    "class Person:\n",
    "  def __init__(self, name, age):\n",
    "    self.name = name\n",
    "    self.age = age\n",
    "\n",
    "  def sayHello(self):\n",
    "    print(\"Hello 나의 이름은 \" + self.name)"
   ]
  },
  {
   "cell_type": "code",
   "execution_count": 33,
   "metadata": {},
   "outputs": [
    {
     "name": "stdout",
     "output_type": "stream",
     "text": [
      "Hello 나의 이름은 John\n"
     ]
    }
   ],
   "source": [
    "p1 = Person(\"John\", 36)\n",
    "p1.sayHello()"
   ]
  },
  {
   "cell_type": "code",
   "execution_count": 2,
   "metadata": {},
   "outputs": [
    {
     "name": "stdout",
     "output_type": "stream",
     "text": [
      "Collecting SpeechRecognition\n",
      "  Downloading SpeechRecognition-3.10.3-py2.py3-none-any.whl.metadata (29 kB)\n",
      "Requirement already satisfied: requests>=2.26.0 in c:\\users\\user\\appdata\\local\\programs\\python\\python312\\lib\\site-packages (from SpeechRecognition) (2.31.0)\n",
      "Requirement already satisfied: typing-extensions in c:\\users\\user\\appdata\\local\\programs\\python\\python312\\lib\\site-packages (from SpeechRecognition) (4.9.0)\n",
      "Requirement already satisfied: charset-normalizer<4,>=2 in c:\\users\\user\\appdata\\local\\programs\\python\\python312\\lib\\site-packages (from requests>=2.26.0->SpeechRecognition) (3.3.2)\n",
      "Requirement already satisfied: idna<4,>=2.5 in c:\\users\\user\\appdata\\local\\programs\\python\\python312\\lib\\site-packages (from requests>=2.26.0->SpeechRecognition) (3.6)\n",
      "Requirement already satisfied: urllib3<3,>=1.21.1 in c:\\users\\user\\appdata\\local\\programs\\python\\python312\\lib\\site-packages (from requests>=2.26.0->SpeechRecognition) (2.1.0)\n",
      "Requirement already satisfied: certifi>=2017.4.17 in c:\\users\\user\\appdata\\local\\programs\\python\\python312\\lib\\site-packages (from requests>=2.26.0->SpeechRecognition) (2023.11.17)\n",
      "Downloading SpeechRecognition-3.10.3-py2.py3-none-any.whl (32.8 MB)\n",
      "   ---------------------------------------- 0.0/32.8 MB ? eta -:--:--\n",
      "   ---------------------------------------- 0.0/32.8 MB 991.0 kB/s eta 0:00:34\n",
      "   ---------------------------------------- 0.1/32.8 MB 1.3 MB/s eta 0:00:25\n",
      "   ---------------------------------------- 0.2/32.8 MB 1.5 MB/s eta 0:00:23\n",
      "   ---------------------------------------- 0.3/32.8 MB 1.6 MB/s eta 0:00:21\n",
      "   ---------------------------------------- 0.4/32.8 MB 1.5 MB/s eta 0:00:22\n",
      "    --------------------------------------- 0.7/32.8 MB 2.5 MB/s eta 0:00:14\n",
      "   - -------------------------------------- 1.0/32.8 MB 3.2 MB/s eta 0:00:10\n",
      "   - -------------------------------------- 1.5/32.8 MB 4.2 MB/s eta 0:00:08\n",
      "   -- ------------------------------------- 2.1/32.8 MB 5.1 MB/s eta 0:00:07\n",
      "   -- ------------------------------------- 2.1/32.8 MB 5.1 MB/s eta 0:00:07\n",
      "   -- ------------------------------------- 2.1/32.8 MB 4.2 MB/s eta 0:00:08\n",
      "   --- ------------------------------------ 2.6/32.8 MB 4.9 MB/s eta 0:00:07\n",
      "   --- ------------------------------------ 2.9/32.8 MB 4.9 MB/s eta 0:00:07\n",
      "   --- ------------------------------------ 3.1/32.8 MB 5.1 MB/s eta 0:00:06\n",
      "   --- ------------------------------------ 3.1/32.8 MB 5.1 MB/s eta 0:00:06\n",
      "   ----- ---------------------------------- 4.2/32.8 MB 5.7 MB/s eta 0:00:06\n",
      "   ----- ---------------------------------- 4.7/32.8 MB 6.0 MB/s eta 0:00:05\n",
      "   ------ --------------------------------- 5.2/32.8 MB 6.3 MB/s eta 0:00:05\n",
      "   ------ --------------------------------- 5.4/32.8 MB 6.3 MB/s eta 0:00:05\n",
      "   ------ --------------------------------- 5.4/32.8 MB 6.3 MB/s eta 0:00:05\n",
      "   ------- -------------------------------- 5.8/32.8 MB 6.1 MB/s eta 0:00:05\n",
      "   ------- -------------------------------- 6.1/32.8 MB 6.0 MB/s eta 0:00:05\n",
      "   ------- -------------------------------- 6.4/32.8 MB 6.1 MB/s eta 0:00:05\n",
      "   -------- ------------------------------- 6.8/32.8 MB 6.1 MB/s eta 0:00:05\n",
      "   -------- ------------------------------- 7.0/32.8 MB 6.1 MB/s eta 0:00:05\n",
      "   --------- ------------------------------ 7.5/32.8 MB 6.2 MB/s eta 0:00:05\n",
      "   --------- ------------------------------ 8.1/32.8 MB 6.4 MB/s eta 0:00:04\n",
      "   ---------- ----------------------------- 8.6/32.8 MB 6.6 MB/s eta 0:00:04\n",
      "   ----------- ---------------------------- 9.2/32.8 MB 6.8 MB/s eta 0:00:04\n",
      "   ----------- ---------------------------- 9.7/32.8 MB 7.0 MB/s eta 0:00:04\n",
      "   ------------ --------------------------- 10.3/32.8 MB 7.4 MB/s eta 0:00:04\n",
      "   ------------- -------------------------- 10.8/32.8 MB 8.4 MB/s eta 0:00:03\n",
      "   ------------- -------------------------- 11.4/32.8 MB 8.5 MB/s eta 0:00:03\n",
      "   -------------- ------------------------- 12.0/32.8 MB 8.5 MB/s eta 0:00:03\n",
      "   --------------- ------------------------ 12.5/32.8 MB 9.2 MB/s eta 0:00:03\n",
      "   --------------- ------------------------ 13.0/32.8 MB 9.5 MB/s eta 0:00:03\n",
      "   ---------------- ----------------------- 13.6/32.8 MB 10.2 MB/s eta 0:00:02\n",
      "   ----------------- ---------------------- 14.1/32.8 MB 9.8 MB/s eta 0:00:02\n",
      "   ----------------- ---------------------- 14.7/32.8 MB 9.8 MB/s eta 0:00:02\n",
      "   ------------------ --------------------- 15.3/32.8 MB 9.8 MB/s eta 0:00:02\n",
      "   ------------------- -------------------- 15.8/32.8 MB 10.6 MB/s eta 0:00:02\n",
      "   ------------------- -------------------- 16.4/32.8 MB 10.9 MB/s eta 0:00:02\n",
      "   -------------------- ------------------- 16.9/32.8 MB 11.3 MB/s eta 0:00:02\n",
      "   --------------------- ------------------ 17.5/32.8 MB 11.9 MB/s eta 0:00:02\n",
      "   --------------------- ------------------ 18.0/32.8 MB 11.9 MB/s eta 0:00:02\n",
      "   ---------------------- ----------------- 18.6/32.8 MB 11.9 MB/s eta 0:00:02\n",
      "   ----------------------- ---------------- 19.1/32.8 MB 11.9 MB/s eta 0:00:02\n",
      "   ----------------------- ---------------- 19.7/32.8 MB 11.7 MB/s eta 0:00:02\n",
      "   ------------------------ --------------- 20.2/32.8 MB 11.7 MB/s eta 0:00:02\n",
      "   ------------------------- -------------- 20.8/32.8 MB 11.7 MB/s eta 0:00:02\n",
      "   -------------------------- ------------- 21.4/32.8 MB 11.7 MB/s eta 0:00:01\n",
      "   -------------------------- ------------- 21.9/32.8 MB 11.7 MB/s eta 0:00:01\n",
      "   --------------------------- ------------ 22.5/32.8 MB 11.9 MB/s eta 0:00:01\n",
      "   ---------------------------- ----------- 23.0/32.8 MB 11.9 MB/s eta 0:00:01\n",
      "   ---------------------------- ----------- 23.6/32.8 MB 11.9 MB/s eta 0:00:01\n",
      "   ----------------------------- ---------- 24.1/32.8 MB 11.7 MB/s eta 0:00:01\n",
      "   ------------------------------ --------- 24.7/32.8 MB 11.7 MB/s eta 0:00:01\n",
      "   ------------------------------ --------- 25.2/32.8 MB 11.7 MB/s eta 0:00:01\n",
      "   ------------------------------- -------- 25.8/32.8 MB 11.7 MB/s eta 0:00:01\n",
      "   -------------------------------- ------- 26.3/32.8 MB 11.9 MB/s eta 0:00:01\n",
      "   -------------------------------- ------- 26.9/32.8 MB 11.9 MB/s eta 0:00:01\n",
      "   --------------------------------- ------ 27.5/32.8 MB 11.9 MB/s eta 0:00:01\n",
      "   ---------------------------------- ----- 28.0/32.8 MB 11.9 MB/s eta 0:00:01\n",
      "   ---------------------------------- ----- 28.6/32.8 MB 11.9 MB/s eta 0:00:01\n",
      "   ----------------------------------- ---- 29.1/32.8 MB 11.9 MB/s eta 0:00:01\n",
      "   ------------------------------------ --- 29.7/32.8 MB 11.9 MB/s eta 0:00:01\n",
      "   ------------------------------------ --- 29.7/32.8 MB 11.9 MB/s eta 0:00:01\n",
      "   ------------------------------------ --- 29.7/32.8 MB 11.9 MB/s eta 0:00:01\n",
      "   ------------------------------------- -- 30.6/32.8 MB 11.3 MB/s eta 0:00:01\n",
      "   -------------------------------------- - 31.8/32.8 MB 11.7 MB/s eta 0:00:01\n",
      "   ---------------------------------------  32.3/32.8 MB 11.7 MB/s eta 0:00:01\n",
      "   ---------------------------------------  32.8/32.8 MB 11.7 MB/s eta 0:00:01\n",
      "   ---------------------------------------- 32.8/32.8 MB 11.3 MB/s eta 0:00:00\n",
      "Installing collected packages: SpeechRecognition\n",
      "Successfully installed SpeechRecognition-3.10.3\n"
     ]
    }
   ],
   "source": [
    "!pip install SpeechRecognition"
   ]
  },
  {
   "cell_type": "code",
   "execution_count": 3,
   "metadata": {},
   "outputs": [
    {
     "name": "stdout",
     "output_type": "stream",
     "text": [
      "Collecting pyaudio\n",
      "  Downloading PyAudio-0.2.14-cp312-cp312-win_amd64.whl.metadata (2.7 kB)\n",
      "Downloading PyAudio-0.2.14-cp312-cp312-win_amd64.whl (164 kB)\n",
      "   ---------------------------------------- 0.0/164.1 kB ? eta -:--:--\n",
      "   ---- ---------------------------------- 20.5/164.1 kB 640.0 kB/s eta 0:00:01\n",
      "   --------- ----------------------------- 41.0/164.1 kB 487.6 kB/s eta 0:00:01\n",
      "   --------------------- ----------------- 92.2/164.1 kB 744.7 kB/s eta 0:00:01\n",
      "   -------------------------------------- 164.1/164.1 kB 980.2 kB/s eta 0:00:00\n",
      "Installing collected packages: pyaudio\n",
      "Successfully installed pyaudio-0.2.14\n"
     ]
    }
   ],
   "source": [
    "!pip install pyaudio"
   ]
  },
  {
   "cell_type": "code",
   "execution_count": 10,
   "metadata": {},
   "outputs": [],
   "source": [
    "from gtts import gTTS\n",
    "tts = gTTS('Prime Minister Pedro Sanchez, a longtime supporter of Palestinian rights, sees recognition as a way of reaching a two-state solution and a possible key to ending the devastating conflict that began in October. “The time has come for the international community to once and for all recognise the State of Palestine,” he said in November. “It is something that many EU countries believe we have to do jointly, but if this is not the case, Spain will adopt its own decision.” In all, 139 out of 193 United Nations member states consider Palestine as a state. Those which do include European nations such as Iceland, Poland and Romania, as well as countries like Russia, China and Nigeria. The European Union as a whole does not recognise Palestine, nor do states including the United States, France and the United Kingdom.')\n",
    "tts.save('hello.mp3')"
   ]
  },
  {
   "cell_type": "code",
   "execution_count": null,
   "metadata": {},
   "outputs": [],
   "source": []
  }
 ],
 "metadata": {
  "kernelspec": {
   "display_name": "Python 3",
   "language": "python",
   "name": "python3"
  },
  "language_info": {
   "codemirror_mode": {
    "name": "ipython",
    "version": 3
   },
   "file_extension": ".py",
   "mimetype": "text/x-python",
   "name": "python",
   "nbconvert_exporter": "python",
   "pygments_lexer": "ipython3",
   "version": "3.12.1"
  }
 },
 "nbformat": 4,
 "nbformat_minor": 4
}
